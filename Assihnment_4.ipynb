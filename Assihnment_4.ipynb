{
 "cells": [
  {
   "cell_type": "code",
   "execution_count": 53,
   "metadata": {},
   "outputs": [],
   "source": [
    "import numpy as np\n",
    "import pandas as pd\n",
    "from sklearn.tree import DecisionTreeClassifier\n",
    "from sklearn.metrics import accuracy_score, classification_report\n",
    "from scipy.stats import mode\n",
    "from sklearn.metrics import accuracy_score"
   ]
  },
  {
   "cell_type": "markdown",
   "metadata": {},
   "source": [
    "Question 2"
   ]
  },
  {
   "cell_type": "code",
   "execution_count": 44,
   "metadata": {},
   "outputs": [],
   "source": [
    "def train(x_train, x_test, y_train,depth):\n",
    "    model = DecisionTreeClassifier(criterion= \"entropy\", random_state= 100, max_depth=depth,min_samples_leaf=5)\n",
    "    model.fit(x_train,y_train)\n",
    "    return model"
   ]
  },
  {
   "cell_type": "code",
   "execution_count": 45,
   "metadata": {},
   "outputs": [],
   "source": [
    "def predict(testing_data, model):\n",
    "    y_predictions = model.predict(testing_data)\n",
    "    return y_predictions"
   ]
  },
  {
   "cell_type": "code",
   "execution_count": 46,
   "metadata": {},
   "outputs": [],
   "source": [
    "def accuracy_classification(y_test, y_pred):\n",
    "    return (accuracy_score(y_test, y_pred)*100), classification_report(y_test, y_pred, zero_division=0)"
   ]
  },
  {
   "cell_type": "code",
   "execution_count": 47,
   "metadata": {},
   "outputs": [],
   "source": [
    "data_train = pd.read_excel('Asssignment4_Data.xlsx', sheet_name='Train')\n",
    "data_test = pd.read_excel('Asssignment4_Data.xlsx', sheet_name='Test')\n",
    "x_train = data_train.drop('Construction type', axis = 1)\n",
    "y_train = data_train['Construction type']\n",
    "x_test = data_test.drop('Construction type', axis=1)\n",
    "y_test = data_test['Construction type']\n"
   ]
  },
  {
   "cell_type": "code",
   "execution_count": 48,
   "metadata": {},
   "outputs": [
    {
     "name": "stdout",
     "output_type": "stream",
     "text": [
      "Accuracy =  20.0\n",
      "Report =                precision    recall  f1-score   support\n",
      "\n",
      "   Apartment       0.00      0.00      0.00         3\n",
      "       Condo       0.00      0.00      0.00         0\n",
      "       House       0.33      0.50      0.40         2\n",
      "\n",
      "    accuracy                           0.20         5\n",
      "   macro avg       0.11      0.17      0.13         5\n",
      "weighted avg       0.13      0.20      0.16         5\n",
      "\n"
     ]
    }
   ],
   "source": [
    "model = train(x_train,x_test,y_train,10)\n",
    "y_prediction = predict(x_test, model)\n",
    "accuracy, report = accuracy_classification(y_test, y_prediction)\n",
    "print(\"Accuracy = \", accuracy)\n",
    "print(\"Report = \", report)"
   ]
  },
  {
   "cell_type": "code",
   "execution_count": 49,
   "metadata": {},
   "outputs": [
    {
     "name": "stdout",
     "output_type": "stream",
     "text": [
      "Accuracy =  20.0\n",
      "Report =                precision    recall  f1-score   support\n",
      "\n",
      "   Apartment       0.00      0.00      0.00         3\n",
      "       Condo       0.00      0.00      0.00         0\n",
      "       House       0.33      0.50      0.40         2\n",
      "\n",
      "    accuracy                           0.20         5\n",
      "   macro avg       0.11      0.17      0.13         5\n",
      "weighted avg       0.13      0.20      0.16         5\n",
      "\n",
      "Accuracy =  20.0\n",
      "Report =                precision    recall  f1-score   support\n",
      "\n",
      "   Apartment       0.00      0.00      0.00         3\n",
      "       Condo       0.00      0.00      0.00         0\n",
      "       House       0.33      0.50      0.40         2\n",
      "\n",
      "    accuracy                           0.20         5\n",
      "   macro avg       0.11      0.17      0.13         5\n",
      "weighted avg       0.13      0.20      0.16         5\n",
      "\n",
      "Accuracy =  20.0\n",
      "Report =                precision    recall  f1-score   support\n",
      "\n",
      "   Apartment       0.00      0.00      0.00         3\n",
      "       Condo       0.00      0.00      0.00         0\n",
      "       House       0.33      0.50      0.40         2\n",
      "\n",
      "    accuracy                           0.20         5\n",
      "   macro avg       0.11      0.17      0.13         5\n",
      "weighted avg       0.13      0.20      0.16         5\n",
      "\n",
      "Accuracy =  20.0\n",
      "Report =                precision    recall  f1-score   support\n",
      "\n",
      "   Apartment       0.00      0.00      0.00         3\n",
      "       Condo       0.00      0.00      0.00         0\n",
      "       House       0.33      0.50      0.40         2\n",
      "\n",
      "    accuracy                           0.20         5\n",
      "   macro avg       0.11      0.17      0.13         5\n",
      "weighted avg       0.13      0.20      0.16         5\n",
      "\n",
      "Accuracy =  20.0\n",
      "Report =                precision    recall  f1-score   support\n",
      "\n",
      "   Apartment       0.00      0.00      0.00         3\n",
      "       Condo       0.00      0.00      0.00         0\n",
      "       House       0.33      0.50      0.40         2\n",
      "\n",
      "    accuracy                           0.20         5\n",
      "   macro avg       0.11      0.17      0.13         5\n",
      "weighted avg       0.13      0.20      0.16         5\n",
      "\n",
      "Accuracy =  20.0\n",
      "Report =                precision    recall  f1-score   support\n",
      "\n",
      "   Apartment       0.00      0.00      0.00         3\n",
      "       Condo       0.00      0.00      0.00         0\n",
      "       House       0.33      0.50      0.40         2\n",
      "\n",
      "    accuracy                           0.20         5\n",
      "   macro avg       0.11      0.17      0.13         5\n",
      "weighted avg       0.13      0.20      0.16         5\n",
      "\n"
     ]
    }
   ],
   "source": [
    "for i in [5,7,9,11,15,17]:\n",
    "    model = train(x_train,x_test,y_train,i)\n",
    "    y_prediction = predict(x_test, model)\n",
    "    accuracy, report = accuracy_classification(y_test, y_prediction)\n",
    "    print(\"Accuracy = \", accuracy)\n",
    "    print(\"Report = \", report)"
   ]
  },
  {
   "cell_type": "markdown",
   "metadata": {},
   "source": [
    "Question 3"
   ]
  },
  {
   "cell_type": "code",
   "execution_count": 50,
   "metadata": {},
   "outputs": [],
   "source": [
    "def distance(num_1, num_2):\n",
    "    return np.sqrt(np.sum((num_1-num_2)**2))"
   ]
  },
  {
   "cell_type": "code",
   "execution_count": 55,
   "metadata": {},
   "outputs": [],
   "source": [
    "def predict_k(x_train, y , x_input, k):\n",
    "    labels = []\n",
    "    for item in x_input:\n",
    "        pd = []\n",
    "        for j in range(len(x_train)): \n",
    "            distances = distance(x_train.iloc[j,:].values , item) \n",
    "            pd.append(distances) \n",
    "        pd = np.array(pd) \n",
    "        dist = np.argsort(pd)[:k] \n",
    "        label = y[dist]\n",
    "        l = mode(label) \n",
    "        l = l.mode[0]\n",
    "        labels.append(l)\n",
    "    return labels"
   ]
  },
  {
   "cell_type": "code",
   "execution_count": 57,
   "metadata": {},
   "outputs": [
    {
     "name": "stdout",
     "output_type": "stream",
     "text": [
      "1 Accuracy:  0.6\n",
      "2 Accuracy:  0.6\n",
      "3 Accuracy:  0.2\n",
      "4 Accuracy:  0.2\n",
      "5 Accuracy:  0.4\n"
     ]
    },
    {
     "name": "stderr",
     "output_type": "stream",
     "text": [
      "C:\\Users\\anubh\\AppData\\Local\\Temp\\ipykernel_11344\\4011292801.py:11: FutureWarning: Unlike other reduction functions (e.g. `skew`, `kurtosis`), the default behavior of `mode` typically preserves the axis it acts along. In SciPy 1.11.0, this behavior will change: the default value of `keepdims` will become False, the `axis` over which the statistic is taken will be eliminated, and the value None will no longer be accepted. Set `keepdims` to True or False to avoid this warning.\n",
      "  l = mode(label)\n",
      "C:\\Users\\anubh\\AppData\\Roaming\\Python\\Python310\\site-packages\\scipy\\stats\\_stats_py.py:112: RuntimeWarning: The input array could not be properly checked for nan values. nan values will be ignored.\n",
      "  warnings.warn(\"The input array could not be properly \"\n",
      "C:\\Users\\anubh\\AppData\\Local\\Temp\\ipykernel_11344\\4011292801.py:11: DeprecationWarning: Support for non-numeric arrays has been deprecated as of SciPy 1.9.0 and will be removed in 1.11.0. `pandas.DataFrame.mode` can be used instead, see https://pandas.pydata.org/docs/reference/api/pandas.DataFrame.mode.html.\n",
      "  l = mode(label)\n",
      "C:\\Users\\anubh\\AppData\\Local\\Temp\\ipykernel_11344\\4011292801.py:11: FutureWarning: Unlike other reduction functions (e.g. `skew`, `kurtosis`), the default behavior of `mode` typically preserves the axis it acts along. In SciPy 1.11.0, this behavior will change: the default value of `keepdims` will become False, the `axis` over which the statistic is taken will be eliminated, and the value None will no longer be accepted. Set `keepdims` to True or False to avoid this warning.\n",
      "  l = mode(label)\n",
      "C:\\Users\\anubh\\AppData\\Roaming\\Python\\Python310\\site-packages\\scipy\\stats\\_stats_py.py:112: RuntimeWarning: The input array could not be properly checked for nan values. nan values will be ignored.\n",
      "  warnings.warn(\"The input array could not be properly \"\n",
      "C:\\Users\\anubh\\AppData\\Local\\Temp\\ipykernel_11344\\4011292801.py:11: DeprecationWarning: Support for non-numeric arrays has been deprecated as of SciPy 1.9.0 and will be removed in 1.11.0. `pandas.DataFrame.mode` can be used instead, see https://pandas.pydata.org/docs/reference/api/pandas.DataFrame.mode.html.\n",
      "  l = mode(label)\n",
      "C:\\Users\\anubh\\AppData\\Local\\Temp\\ipykernel_11344\\4011292801.py:11: FutureWarning: Unlike other reduction functions (e.g. `skew`, `kurtosis`), the default behavior of `mode` typically preserves the axis it acts along. In SciPy 1.11.0, this behavior will change: the default value of `keepdims` will become False, the `axis` over which the statistic is taken will be eliminated, and the value None will no longer be accepted. Set `keepdims` to True or False to avoid this warning.\n",
      "  l = mode(label)\n",
      "C:\\Users\\anubh\\AppData\\Roaming\\Python\\Python310\\site-packages\\scipy\\stats\\_stats_py.py:112: RuntimeWarning: The input array could not be properly checked for nan values. nan values will be ignored.\n",
      "  warnings.warn(\"The input array could not be properly \"\n",
      "C:\\Users\\anubh\\AppData\\Local\\Temp\\ipykernel_11344\\4011292801.py:11: DeprecationWarning: Support for non-numeric arrays has been deprecated as of SciPy 1.9.0 and will be removed in 1.11.0. `pandas.DataFrame.mode` can be used instead, see https://pandas.pydata.org/docs/reference/api/pandas.DataFrame.mode.html.\n",
      "  l = mode(label)\n",
      "C:\\Users\\anubh\\AppData\\Local\\Temp\\ipykernel_11344\\4011292801.py:11: FutureWarning: Unlike other reduction functions (e.g. `skew`, `kurtosis`), the default behavior of `mode` typically preserves the axis it acts along. In SciPy 1.11.0, this behavior will change: the default value of `keepdims` will become False, the `axis` over which the statistic is taken will be eliminated, and the value None will no longer be accepted. Set `keepdims` to True or False to avoid this warning.\n",
      "  l = mode(label)\n",
      "C:\\Users\\anubh\\AppData\\Roaming\\Python\\Python310\\site-packages\\scipy\\stats\\_stats_py.py:112: RuntimeWarning: The input array could not be properly checked for nan values. nan values will be ignored.\n",
      "  warnings.warn(\"The input array could not be properly \"\n",
      "C:\\Users\\anubh\\AppData\\Local\\Temp\\ipykernel_11344\\4011292801.py:11: DeprecationWarning: Support for non-numeric arrays has been deprecated as of SciPy 1.9.0 and will be removed in 1.11.0. `pandas.DataFrame.mode` can be used instead, see https://pandas.pydata.org/docs/reference/api/pandas.DataFrame.mode.html.\n",
      "  l = mode(label)\n",
      "C:\\Users\\anubh\\AppData\\Local\\Temp\\ipykernel_11344\\4011292801.py:11: FutureWarning: Unlike other reduction functions (e.g. `skew`, `kurtosis`), the default behavior of `mode` typically preserves the axis it acts along. In SciPy 1.11.0, this behavior will change: the default value of `keepdims` will become False, the `axis` over which the statistic is taken will be eliminated, and the value None will no longer be accepted. Set `keepdims` to True or False to avoid this warning.\n",
      "  l = mode(label)\n",
      "C:\\Users\\anubh\\AppData\\Roaming\\Python\\Python310\\site-packages\\scipy\\stats\\_stats_py.py:112: RuntimeWarning: The input array could not be properly checked for nan values. nan values will be ignored.\n",
      "  warnings.warn(\"The input array could not be properly \"\n",
      "C:\\Users\\anubh\\AppData\\Local\\Temp\\ipykernel_11344\\4011292801.py:11: DeprecationWarning: Support for non-numeric arrays has been deprecated as of SciPy 1.9.0 and will be removed in 1.11.0. `pandas.DataFrame.mode` can be used instead, see https://pandas.pydata.org/docs/reference/api/pandas.DataFrame.mode.html.\n",
      "  l = mode(label)\n",
      "C:\\Users\\anubh\\AppData\\Local\\Temp\\ipykernel_11344\\4011292801.py:11: FutureWarning: Unlike other reduction functions (e.g. `skew`, `kurtosis`), the default behavior of `mode` typically preserves the axis it acts along. In SciPy 1.11.0, this behavior will change: the default value of `keepdims` will become False, the `axis` over which the statistic is taken will be eliminated, and the value None will no longer be accepted. Set `keepdims` to True or False to avoid this warning.\n",
      "  l = mode(label)\n",
      "C:\\Users\\anubh\\AppData\\Roaming\\Python\\Python310\\site-packages\\scipy\\stats\\_stats_py.py:112: RuntimeWarning: The input array could not be properly checked for nan values. nan values will be ignored.\n",
      "  warnings.warn(\"The input array could not be properly \"\n",
      "C:\\Users\\anubh\\AppData\\Local\\Temp\\ipykernel_11344\\4011292801.py:11: DeprecationWarning: Support for non-numeric arrays has been deprecated as of SciPy 1.9.0 and will be removed in 1.11.0. `pandas.DataFrame.mode` can be used instead, see https://pandas.pydata.org/docs/reference/api/pandas.DataFrame.mode.html.\n",
      "  l = mode(label)\n",
      "C:\\Users\\anubh\\AppData\\Local\\Temp\\ipykernel_11344\\4011292801.py:11: FutureWarning: Unlike other reduction functions (e.g. `skew`, `kurtosis`), the default behavior of `mode` typically preserves the axis it acts along. In SciPy 1.11.0, this behavior will change: the default value of `keepdims` will become False, the `axis` over which the statistic is taken will be eliminated, and the value None will no longer be accepted. Set `keepdims` to True or False to avoid this warning.\n",
      "  l = mode(label)\n",
      "C:\\Users\\anubh\\AppData\\Roaming\\Python\\Python310\\site-packages\\scipy\\stats\\_stats_py.py:112: RuntimeWarning: The input array could not be properly checked for nan values. nan values will be ignored.\n",
      "  warnings.warn(\"The input array could not be properly \"\n",
      "C:\\Users\\anubh\\AppData\\Local\\Temp\\ipykernel_11344\\4011292801.py:11: DeprecationWarning: Support for non-numeric arrays has been deprecated as of SciPy 1.9.0 and will be removed in 1.11.0. `pandas.DataFrame.mode` can be used instead, see https://pandas.pydata.org/docs/reference/api/pandas.DataFrame.mode.html.\n",
      "  l = mode(label)\n",
      "C:\\Users\\anubh\\AppData\\Local\\Temp\\ipykernel_11344\\4011292801.py:11: FutureWarning: Unlike other reduction functions (e.g. `skew`, `kurtosis`), the default behavior of `mode` typically preserves the axis it acts along. In SciPy 1.11.0, this behavior will change: the default value of `keepdims` will become False, the `axis` over which the statistic is taken will be eliminated, and the value None will no longer be accepted. Set `keepdims` to True or False to avoid this warning.\n",
      "  l = mode(label)\n",
      "C:\\Users\\anubh\\AppData\\Roaming\\Python\\Python310\\site-packages\\scipy\\stats\\_stats_py.py:112: RuntimeWarning: The input array could not be properly checked for nan values. nan values will be ignored.\n",
      "  warnings.warn(\"The input array could not be properly \"\n",
      "C:\\Users\\anubh\\AppData\\Local\\Temp\\ipykernel_11344\\4011292801.py:11: DeprecationWarning: Support for non-numeric arrays has been deprecated as of SciPy 1.9.0 and will be removed in 1.11.0. `pandas.DataFrame.mode` can be used instead, see https://pandas.pydata.org/docs/reference/api/pandas.DataFrame.mode.html.\n",
      "  l = mode(label)\n",
      "C:\\Users\\anubh\\AppData\\Local\\Temp\\ipykernel_11344\\4011292801.py:11: FutureWarning: Unlike other reduction functions (e.g. `skew`, `kurtosis`), the default behavior of `mode` typically preserves the axis it acts along. In SciPy 1.11.0, this behavior will change: the default value of `keepdims` will become False, the `axis` over which the statistic is taken will be eliminated, and the value None will no longer be accepted. Set `keepdims` to True or False to avoid this warning.\n",
      "  l = mode(label)\n",
      "C:\\Users\\anubh\\AppData\\Roaming\\Python\\Python310\\site-packages\\scipy\\stats\\_stats_py.py:112: RuntimeWarning: The input array could not be properly checked for nan values. nan values will be ignored.\n",
      "  warnings.warn(\"The input array could not be properly \"\n",
      "C:\\Users\\anubh\\AppData\\Local\\Temp\\ipykernel_11344\\4011292801.py:11: DeprecationWarning: Support for non-numeric arrays has been deprecated as of SciPy 1.9.0 and will be removed in 1.11.0. `pandas.DataFrame.mode` can be used instead, see https://pandas.pydata.org/docs/reference/api/pandas.DataFrame.mode.html.\n",
      "  l = mode(label)\n",
      "C:\\Users\\anubh\\AppData\\Local\\Temp\\ipykernel_11344\\4011292801.py:11: FutureWarning: Unlike other reduction functions (e.g. `skew`, `kurtosis`), the default behavior of `mode` typically preserves the axis it acts along. In SciPy 1.11.0, this behavior will change: the default value of `keepdims` will become False, the `axis` over which the statistic is taken will be eliminated, and the value None will no longer be accepted. Set `keepdims` to True or False to avoid this warning.\n",
      "  l = mode(label)\n",
      "C:\\Users\\anubh\\AppData\\Roaming\\Python\\Python310\\site-packages\\scipy\\stats\\_stats_py.py:112: RuntimeWarning: The input array could not be properly checked for nan values. nan values will be ignored.\n",
      "  warnings.warn(\"The input array could not be properly \"\n",
      "C:\\Users\\anubh\\AppData\\Local\\Temp\\ipykernel_11344\\4011292801.py:11: DeprecationWarning: Support for non-numeric arrays has been deprecated as of SciPy 1.9.0 and will be removed in 1.11.0. `pandas.DataFrame.mode` can be used instead, see https://pandas.pydata.org/docs/reference/api/pandas.DataFrame.mode.html.\n",
      "  l = mode(label)\n",
      "C:\\Users\\anubh\\AppData\\Local\\Temp\\ipykernel_11344\\4011292801.py:11: FutureWarning: Unlike other reduction functions (e.g. `skew`, `kurtosis`), the default behavior of `mode` typically preserves the axis it acts along. In SciPy 1.11.0, this behavior will change: the default value of `keepdims` will become False, the `axis` over which the statistic is taken will be eliminated, and the value None will no longer be accepted. Set `keepdims` to True or False to avoid this warning.\n",
      "  l = mode(label)\n",
      "C:\\Users\\anubh\\AppData\\Roaming\\Python\\Python310\\site-packages\\scipy\\stats\\_stats_py.py:112: RuntimeWarning: The input array could not be properly checked for nan values. nan values will be ignored.\n",
      "  warnings.warn(\"The input array could not be properly \"\n",
      "C:\\Users\\anubh\\AppData\\Local\\Temp\\ipykernel_11344\\4011292801.py:11: DeprecationWarning: Support for non-numeric arrays has been deprecated as of SciPy 1.9.0 and will be removed in 1.11.0. `pandas.DataFrame.mode` can be used instead, see https://pandas.pydata.org/docs/reference/api/pandas.DataFrame.mode.html.\n",
      "  l = mode(label)\n",
      "C:\\Users\\anubh\\AppData\\Local\\Temp\\ipykernel_11344\\4011292801.py:11: FutureWarning: Unlike other reduction functions (e.g. `skew`, `kurtosis`), the default behavior of `mode` typically preserves the axis it acts along. In SciPy 1.11.0, this behavior will change: the default value of `keepdims` will become False, the `axis` over which the statistic is taken will be eliminated, and the value None will no longer be accepted. Set `keepdims` to True or False to avoid this warning.\n",
      "  l = mode(label)\n",
      "C:\\Users\\anubh\\AppData\\Roaming\\Python\\Python310\\site-packages\\scipy\\stats\\_stats_py.py:112: RuntimeWarning: The input array could not be properly checked for nan values. nan values will be ignored.\n",
      "  warnings.warn(\"The input array could not be properly \"\n",
      "C:\\Users\\anubh\\AppData\\Local\\Temp\\ipykernel_11344\\4011292801.py:11: DeprecationWarning: Support for non-numeric arrays has been deprecated as of SciPy 1.9.0 and will be removed in 1.11.0. `pandas.DataFrame.mode` can be used instead, see https://pandas.pydata.org/docs/reference/api/pandas.DataFrame.mode.html.\n",
      "  l = mode(label)\n",
      "C:\\Users\\anubh\\AppData\\Local\\Temp\\ipykernel_11344\\4011292801.py:11: FutureWarning: Unlike other reduction functions (e.g. `skew`, `kurtosis`), the default behavior of `mode` typically preserves the axis it acts along. In SciPy 1.11.0, this behavior will change: the default value of `keepdims` will become False, the `axis` over which the statistic is taken will be eliminated, and the value None will no longer be accepted. Set `keepdims` to True or False to avoid this warning.\n",
      "  l = mode(label)\n",
      "C:\\Users\\anubh\\AppData\\Roaming\\Python\\Python310\\site-packages\\scipy\\stats\\_stats_py.py:112: RuntimeWarning: The input array could not be properly checked for nan values. nan values will be ignored.\n",
      "  warnings.warn(\"The input array could not be properly \"\n",
      "C:\\Users\\anubh\\AppData\\Local\\Temp\\ipykernel_11344\\4011292801.py:11: DeprecationWarning: Support for non-numeric arrays has been deprecated as of SciPy 1.9.0 and will be removed in 1.11.0. `pandas.DataFrame.mode` can be used instead, see https://pandas.pydata.org/docs/reference/api/pandas.DataFrame.mode.html.\n",
      "  l = mode(label)\n",
      "C:\\Users\\anubh\\AppData\\Local\\Temp\\ipykernel_11344\\4011292801.py:11: FutureWarning: Unlike other reduction functions (e.g. `skew`, `kurtosis`), the default behavior of `mode` typically preserves the axis it acts along. In SciPy 1.11.0, this behavior will change: the default value of `keepdims` will become False, the `axis` over which the statistic is taken will be eliminated, and the value None will no longer be accepted. Set `keepdims` to True or False to avoid this warning.\n",
      "  l = mode(label)\n",
      "C:\\Users\\anubh\\AppData\\Roaming\\Python\\Python310\\site-packages\\scipy\\stats\\_stats_py.py:112: RuntimeWarning: The input array could not be properly checked for nan values. nan values will be ignored.\n",
      "  warnings.warn(\"The input array could not be properly \"\n",
      "C:\\Users\\anubh\\AppData\\Local\\Temp\\ipykernel_11344\\4011292801.py:11: DeprecationWarning: Support for non-numeric arrays has been deprecated as of SciPy 1.9.0 and will be removed in 1.11.0. `pandas.DataFrame.mode` can be used instead, see https://pandas.pydata.org/docs/reference/api/pandas.DataFrame.mode.html.\n",
      "  l = mode(label)\n",
      "C:\\Users\\anubh\\AppData\\Local\\Temp\\ipykernel_11344\\4011292801.py:11: FutureWarning: Unlike other reduction functions (e.g. `skew`, `kurtosis`), the default behavior of `mode` typically preserves the axis it acts along. In SciPy 1.11.0, this behavior will change: the default value of `keepdims` will become False, the `axis` over which the statistic is taken will be eliminated, and the value None will no longer be accepted. Set `keepdims` to True or False to avoid this warning.\n",
      "  l = mode(label)\n",
      "C:\\Users\\anubh\\AppData\\Roaming\\Python\\Python310\\site-packages\\scipy\\stats\\_stats_py.py:112: RuntimeWarning: The input array could not be properly checked for nan values. nan values will be ignored.\n",
      "  warnings.warn(\"The input array could not be properly \"\n",
      "C:\\Users\\anubh\\AppData\\Local\\Temp\\ipykernel_11344\\4011292801.py:11: DeprecationWarning: Support for non-numeric arrays has been deprecated as of SciPy 1.9.0 and will be removed in 1.11.0. `pandas.DataFrame.mode` can be used instead, see https://pandas.pydata.org/docs/reference/api/pandas.DataFrame.mode.html.\n",
      "  l = mode(label)\n",
      "C:\\Users\\anubh\\AppData\\Local\\Temp\\ipykernel_11344\\4011292801.py:11: FutureWarning: Unlike other reduction functions (e.g. `skew`, `kurtosis`), the default behavior of `mode` typically preserves the axis it acts along. In SciPy 1.11.0, this behavior will change: the default value of `keepdims` will become False, the `axis` over which the statistic is taken will be eliminated, and the value None will no longer be accepted. Set `keepdims` to True or False to avoid this warning.\n",
      "  l = mode(label)\n",
      "C:\\Users\\anubh\\AppData\\Roaming\\Python\\Python310\\site-packages\\scipy\\stats\\_stats_py.py:112: RuntimeWarning: The input array could not be properly checked for nan values. nan values will be ignored.\n",
      "  warnings.warn(\"The input array could not be properly \"\n",
      "C:\\Users\\anubh\\AppData\\Local\\Temp\\ipykernel_11344\\4011292801.py:11: DeprecationWarning: Support for non-numeric arrays has been deprecated as of SciPy 1.9.0 and will be removed in 1.11.0. `pandas.DataFrame.mode` can be used instead, see https://pandas.pydata.org/docs/reference/api/pandas.DataFrame.mode.html.\n",
      "  l = mode(label)\n",
      "C:\\Users\\anubh\\AppData\\Local\\Temp\\ipykernel_11344\\4011292801.py:11: FutureWarning: Unlike other reduction functions (e.g. `skew`, `kurtosis`), the default behavior of `mode` typically preserves the axis it acts along. In SciPy 1.11.0, this behavior will change: the default value of `keepdims` will become False, the `axis` over which the statistic is taken will be eliminated, and the value None will no longer be accepted. Set `keepdims` to True or False to avoid this warning.\n",
      "  l = mode(label)\n",
      "C:\\Users\\anubh\\AppData\\Roaming\\Python\\Python310\\site-packages\\scipy\\stats\\_stats_py.py:112: RuntimeWarning: The input array could not be properly checked for nan values. nan values will be ignored.\n",
      "  warnings.warn(\"The input array could not be properly \"\n",
      "C:\\Users\\anubh\\AppData\\Local\\Temp\\ipykernel_11344\\4011292801.py:11: DeprecationWarning: Support for non-numeric arrays has been deprecated as of SciPy 1.9.0 and will be removed in 1.11.0. `pandas.DataFrame.mode` can be used instead, see https://pandas.pydata.org/docs/reference/api/pandas.DataFrame.mode.html.\n",
      "  l = mode(label)\n",
      "C:\\Users\\anubh\\AppData\\Local\\Temp\\ipykernel_11344\\4011292801.py:11: FutureWarning: Unlike other reduction functions (e.g. `skew`, `kurtosis`), the default behavior of `mode` typically preserves the axis it acts along. In SciPy 1.11.0, this behavior will change: the default value of `keepdims` will become False, the `axis` over which the statistic is taken will be eliminated, and the value None will no longer be accepted. Set `keepdims` to True or False to avoid this warning.\n",
      "  l = mode(label)\n",
      "C:\\Users\\anubh\\AppData\\Roaming\\Python\\Python310\\site-packages\\scipy\\stats\\_stats_py.py:112: RuntimeWarning: The input array could not be properly checked for nan values. nan values will be ignored.\n",
      "  warnings.warn(\"The input array could not be properly \"\n",
      "C:\\Users\\anubh\\AppData\\Local\\Temp\\ipykernel_11344\\4011292801.py:11: DeprecationWarning: Support for non-numeric arrays has been deprecated as of SciPy 1.9.0 and will be removed in 1.11.0. `pandas.DataFrame.mode` can be used instead, see https://pandas.pydata.org/docs/reference/api/pandas.DataFrame.mode.html.\n",
      "  l = mode(label)\n",
      "C:\\Users\\anubh\\AppData\\Local\\Temp\\ipykernel_11344\\4011292801.py:11: FutureWarning: Unlike other reduction functions (e.g. `skew`, `kurtosis`), the default behavior of `mode` typically preserves the axis it acts along. In SciPy 1.11.0, this behavior will change: the default value of `keepdims` will become False, the `axis` over which the statistic is taken will be eliminated, and the value None will no longer be accepted. Set `keepdims` to True or False to avoid this warning.\n",
      "  l = mode(label)\n",
      "C:\\Users\\anubh\\AppData\\Roaming\\Python\\Python310\\site-packages\\scipy\\stats\\_stats_py.py:112: RuntimeWarning: The input array could not be properly checked for nan values. nan values will be ignored.\n",
      "  warnings.warn(\"The input array could not be properly \"\n",
      "C:\\Users\\anubh\\AppData\\Local\\Temp\\ipykernel_11344\\4011292801.py:11: DeprecationWarning: Support for non-numeric arrays has been deprecated as of SciPy 1.9.0 and will be removed in 1.11.0. `pandas.DataFrame.mode` can be used instead, see https://pandas.pydata.org/docs/reference/api/pandas.DataFrame.mode.html.\n",
      "  l = mode(label)\n",
      "C:\\Users\\anubh\\AppData\\Local\\Temp\\ipykernel_11344\\4011292801.py:11: FutureWarning: Unlike other reduction functions (e.g. `skew`, `kurtosis`), the default behavior of `mode` typically preserves the axis it acts along. In SciPy 1.11.0, this behavior will change: the default value of `keepdims` will become False, the `axis` over which the statistic is taken will be eliminated, and the value None will no longer be accepted. Set `keepdims` to True or False to avoid this warning.\n",
      "  l = mode(label)\n",
      "C:\\Users\\anubh\\AppData\\Roaming\\Python\\Python310\\site-packages\\scipy\\stats\\_stats_py.py:112: RuntimeWarning: The input array could not be properly checked for nan values. nan values will be ignored.\n",
      "  warnings.warn(\"The input array could not be properly \"\n",
      "C:\\Users\\anubh\\AppData\\Local\\Temp\\ipykernel_11344\\4011292801.py:11: DeprecationWarning: Support for non-numeric arrays has been deprecated as of SciPy 1.9.0 and will be removed in 1.11.0. `pandas.DataFrame.mode` can be used instead, see https://pandas.pydata.org/docs/reference/api/pandas.DataFrame.mode.html.\n",
      "  l = mode(label)\n",
      "C:\\Users\\anubh\\AppData\\Local\\Temp\\ipykernel_11344\\4011292801.py:11: FutureWarning: Unlike other reduction functions (e.g. `skew`, `kurtosis`), the default behavior of `mode` typically preserves the axis it acts along. In SciPy 1.11.0, this behavior will change: the default value of `keepdims` will become False, the `axis` over which the statistic is taken will be eliminated, and the value None will no longer be accepted. Set `keepdims` to True or False to avoid this warning.\n",
      "  l = mode(label)\n",
      "C:\\Users\\anubh\\AppData\\Roaming\\Python\\Python310\\site-packages\\scipy\\stats\\_stats_py.py:112: RuntimeWarning: The input array could not be properly checked for nan values. nan values will be ignored.\n",
      "  warnings.warn(\"The input array could not be properly \"\n",
      "C:\\Users\\anubh\\AppData\\Local\\Temp\\ipykernel_11344\\4011292801.py:11: DeprecationWarning: Support for non-numeric arrays has been deprecated as of SciPy 1.9.0 and will be removed in 1.11.0. `pandas.DataFrame.mode` can be used instead, see https://pandas.pydata.org/docs/reference/api/pandas.DataFrame.mode.html.\n",
      "  l = mode(label)\n",
      "C:\\Users\\anubh\\AppData\\Local\\Temp\\ipykernel_11344\\4011292801.py:11: FutureWarning: Unlike other reduction functions (e.g. `skew`, `kurtosis`), the default behavior of `mode` typically preserves the axis it acts along. In SciPy 1.11.0, this behavior will change: the default value of `keepdims` will become False, the `axis` over which the statistic is taken will be eliminated, and the value None will no longer be accepted. Set `keepdims` to True or False to avoid this warning.\n",
      "  l = mode(label)\n",
      "C:\\Users\\anubh\\AppData\\Roaming\\Python\\Python310\\site-packages\\scipy\\stats\\_stats_py.py:112: RuntimeWarning: The input array could not be properly checked for nan values. nan values will be ignored.\n",
      "  warnings.warn(\"The input array could not be properly \"\n",
      "C:\\Users\\anubh\\AppData\\Local\\Temp\\ipykernel_11344\\4011292801.py:11: DeprecationWarning: Support for non-numeric arrays has been deprecated as of SciPy 1.9.0 and will be removed in 1.11.0. `pandas.DataFrame.mode` can be used instead, see https://pandas.pydata.org/docs/reference/api/pandas.DataFrame.mode.html.\n",
      "  l = mode(label)\n",
      "C:\\Users\\anubh\\AppData\\Local\\Temp\\ipykernel_11344\\4011292801.py:11: FutureWarning: Unlike other reduction functions (e.g. `skew`, `kurtosis`), the default behavior of `mode` typically preserves the axis it acts along. In SciPy 1.11.0, this behavior will change: the default value of `keepdims` will become False, the `axis` over which the statistic is taken will be eliminated, and the value None will no longer be accepted. Set `keepdims` to True or False to avoid this warning.\n",
      "  l = mode(label)\n",
      "C:\\Users\\anubh\\AppData\\Roaming\\Python\\Python310\\site-packages\\scipy\\stats\\_stats_py.py:112: RuntimeWarning: The input array could not be properly checked for nan values. nan values will be ignored.\n",
      "  warnings.warn(\"The input array could not be properly \"\n",
      "C:\\Users\\anubh\\AppData\\Local\\Temp\\ipykernel_11344\\4011292801.py:11: DeprecationWarning: Support for non-numeric arrays has been deprecated as of SciPy 1.9.0 and will be removed in 1.11.0. `pandas.DataFrame.mode` can be used instead, see https://pandas.pydata.org/docs/reference/api/pandas.DataFrame.mode.html.\n",
      "  l = mode(label)\n",
      "C:\\Users\\anubh\\AppData\\Local\\Temp\\ipykernel_11344\\4011292801.py:11: FutureWarning: Unlike other reduction functions (e.g. `skew`, `kurtosis`), the default behavior of `mode` typically preserves the axis it acts along. In SciPy 1.11.0, this behavior will change: the default value of `keepdims` will become False, the `axis` over which the statistic is taken will be eliminated, and the value None will no longer be accepted. Set `keepdims` to True or False to avoid this warning.\n",
      "  l = mode(label)\n",
      "C:\\Users\\anubh\\AppData\\Roaming\\Python\\Python310\\site-packages\\scipy\\stats\\_stats_py.py:112: RuntimeWarning: The input array could not be properly checked for nan values. nan values will be ignored.\n",
      "  warnings.warn(\"The input array could not be properly \"\n",
      "C:\\Users\\anubh\\AppData\\Local\\Temp\\ipykernel_11344\\4011292801.py:11: DeprecationWarning: Support for non-numeric arrays has been deprecated as of SciPy 1.9.0 and will be removed in 1.11.0. `pandas.DataFrame.mode` can be used instead, see https://pandas.pydata.org/docs/reference/api/pandas.DataFrame.mode.html.\n",
      "  l = mode(label)\n",
      "C:\\Users\\anubh\\AppData\\Local\\Temp\\ipykernel_11344\\4011292801.py:11: FutureWarning: Unlike other reduction functions (e.g. `skew`, `kurtosis`), the default behavior of `mode` typically preserves the axis it acts along. In SciPy 1.11.0, this behavior will change: the default value of `keepdims` will become False, the `axis` over which the statistic is taken will be eliminated, and the value None will no longer be accepted. Set `keepdims` to True or False to avoid this warning.\n",
      "  l = mode(label)\n",
      "C:\\Users\\anubh\\AppData\\Roaming\\Python\\Python310\\site-packages\\scipy\\stats\\_stats_py.py:112: RuntimeWarning: The input array could not be properly checked for nan values. nan values will be ignored.\n",
      "  warnings.warn(\"The input array could not be properly \"\n",
      "C:\\Users\\anubh\\AppData\\Local\\Temp\\ipykernel_11344\\4011292801.py:11: DeprecationWarning: Support for non-numeric arrays has been deprecated as of SciPy 1.9.0 and will be removed in 1.11.0. `pandas.DataFrame.mode` can be used instead, see https://pandas.pydata.org/docs/reference/api/pandas.DataFrame.mode.html.\n",
      "  l = mode(label)\n"
     ]
    }
   ],
   "source": [
    "x_test = np.array(x_test)\n",
    "for i in range(1,6):\n",
    "    y_prediction = predict_k(x_train, y_train,x_test, i)\n",
    "    print(i, \"Accuracy: \", accuracy_score(y_test, y_prediction))"
   ]
  }
 ],
 "metadata": {
  "kernelspec": {
   "display_name": "Python 3.10.2 64-bit",
   "language": "python",
   "name": "python3"
  },
  "language_info": {
   "codemirror_mode": {
    "name": "ipython",
    "version": 3
   },
   "file_extension": ".py",
   "mimetype": "text/x-python",
   "name": "python",
   "nbconvert_exporter": "python",
   "pygments_lexer": "ipython3",
   "version": "3.10.2"
  },
  "orig_nbformat": 4,
  "vscode": {
   "interpreter": {
    "hash": "26de051ba29f2982a8de78e945f0abaf191376122a1563185a90213a26c5da77"
   }
  }
 },
 "nbformat": 4,
 "nbformat_minor": 2
}
