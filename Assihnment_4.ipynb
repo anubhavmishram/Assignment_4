{
 "cells": [
  {
   "cell_type": "code",
   "execution_count": 35,
   "metadata": {},
   "outputs": [],
   "source": [
    "import numpy as np\n",
    "import pandas as pd\n",
    "from sklearn.tree import DecisionTreeClassifier\n",
    "from sklearn.metrics import accuracy_score, classification_report\n",
    "from sklearn.metrics import accuracy_score\n",
    "from sklearn import tree\n",
    "from math import exp,sqrt\n",
    "import collections\n",
    "from scipy.stats import mode\n",
    "import matplotlib.pyplot as plt"
   ]
  },
  {
   "cell_type": "markdown",
   "metadata": {},
   "source": [
    "Question 1"
   ]
  },
  {
   "cell_type": "code",
   "execution_count": 2,
   "metadata": {},
   "outputs": [],
   "source": [
    "data_train = pd.read_excel('Asssignment4_Data.xlsx', sheet_name='Train')\n",
    "data_test = pd.read_excel('Asssignment4_Data.xlsx', sheet_name='Test')\n",
    "x_train = data_train.drop('Construction type', axis = 1)\n",
    "y_train = data_train['Construction type']\n",
    "x_test = data_test.drop('Construction type', axis=1)\n",
    "y_test = data_test['Construction type']\n"
   ]
  },
  {
   "cell_type": "code",
   "execution_count": 3,
   "metadata": {},
   "outputs": [
    {
     "name": "stdout",
     "output_type": "stream",
     "text": [
      "0.35\n"
     ]
    }
   ],
   "source": [
    "classes = collections.Counter(y_train)\n",
    "predict_prob = []\n",
    "for i in classes:\n",
    "    predict_prob.append(classes[i]/y_train.shape[0])\n",
    "\n",
    "print(predict_prob[0])\n"
   ]
  },
  {
   "cell_type": "markdown",
   "metadata": {},
   "source": [
    "Mean and variance for Apartment features"
   ]
  },
  {
   "cell_type": "code",
   "execution_count": 4,
   "metadata": {},
   "outputs": [],
   "source": [
    "mean_local_price_a = 7.3327\n",
    "variance_local_price_a = 11.2075\n",
    "mean_land_area_a = 6.1039\n",
    "variane_land_area_a = 9.1010\n",
    "mean_living_area_a = 1.5050\n",
    "variance_living_area_a = 0.4249\n",
    "mean_age_of_house_a = 38.7142\n",
    "variance_age_of_house_a = 184.7755"
   ]
  },
  {
   "cell_type": "markdown",
   "metadata": {},
   "source": [
    "Mean and variance for House features"
   ]
  },
  {
   "cell_type": "code",
   "execution_count": 5,
   "metadata": {},
   "outputs": [],
   "source": [
    "mean_local_price_h = 5.7607\n",
    "variance_local_price_h = 0.2786\n",
    "mean_land_area_h = 6.6309\n",
    "variane_land_area_h = 4.3353\n",
    "mean_living_area_h = 1.3917\n",
    "variance_living_area_h = 0.0389\n",
    "mean_age_of_house_h = 34.2857\n",
    "variance_age_of_house_h = 138.7755"
   ]
  },
  {
   "cell_type": "markdown",
   "metadata": {},
   "source": [
    "Mean and variance for Condo features"
   ]
  },
  {
   "cell_type": "code",
   "execution_count": 6,
   "metadata": {},
   "outputs": [],
   "source": [
    "mean_local_price_c = 7.4159\n",
    "variance_local_price_c = 17.7197\n",
    "mean_land_area_c = 6.0247\n",
    "variane_land_area_c = 5.3966\n",
    "mean_living_area_c = 1.5533\n",
    "variance_living_area_c = 0.7106\n",
    "mean_age_of_house_c = 39.6667\n",
    "variance_age_of_house_c = 162.2222"
   ]
  },
  {
   "cell_type": "code",
   "execution_count": 7,
   "metadata": {},
   "outputs": [],
   "source": [
    "def condition_probability(mean,variance,value):\n",
    "    return 1/sqrt(2*3.14)*sqrt(variance) * exp(-(value-mean)**2/2*variance)"
   ]
  },
  {
   "cell_type": "code",
   "execution_count": 39,
   "metadata": {},
   "outputs": [
    {
     "name": "stdout",
     "output_type": "stream",
     "text": [
      "0.0\n",
      "0.0\n",
      "0.0\n",
      "0.0\n",
      "0.0\n",
      "0.20630355748489035\n",
      "0.0013427728398229166\n",
      "0.0047022679478919875\n",
      "0.014286957795659829\n",
      "8.821502538218535e-07\n",
      "0.00024331312392151345\n",
      "1.4537542222017416e-08\n",
      "1.2920985481772973e-53\n",
      "0.0821390201902666\n",
      "0.09572642075175669\n",
      "0.2589224874781608\n",
      "0.2543067553615442\n",
      "0.2550236820323733\n",
      "0.07847674223376616\n",
      "0.07868436618857405\n"
     ]
    }
   ],
   "source": [
    "print(condition_probability(mean_age_of_house_a,variance_age_of_house_a,44))\n",
    "print(condition_probability(mean_age_of_house_a,variance_age_of_house_a,31))\n",
    "print(condition_probability(mean_age_of_house_a,variance_age_of_house_a,30))\n",
    "print(condition_probability(mean_age_of_house_h,variance_age_of_house_h,3))\n",
    "print(condition_probability(mean_age_of_house_h,variance_age_of_house_h,48))\n",
    "print(condition_probability(mean_land_area_a, variane_land_area_a,6.7265))\n",
    "print(condition_probability(mean_land_area_a, variane_land_area_a,7.3262))\n",
    "print(condition_probability(mean_land_area_a, variane_land_area_a,5))\n",
    "print(condition_probability(mean_land_area_h, variane_land_area_h,8))\n",
    "print(condition_probability(mean_land_area_h, variane_land_area_h,9.15))\n",
    "print(condition_probability(mean_local_price_a, variance_local_price_a, 6.0931))\n",
    "print(condition_probability(mean_local_price_a, variance_local_price_a, 9.1416))\n",
    "print(condition_probability(mean_local_price_a, variance_local_price_a, 12))\n",
    "print(condition_probability(mean_local_price_h, variance_local_price_h, 8.3607))\n",
    "print(condition_probability(mean_local_price_h, variance_local_price_h, 8.14))\n",
    "print(condition_probability(mean_living_area_a, variance_living_area_a, 1.652))\n",
    "print(condition_probability(mean_living_area_a, variance_living_area_a, 1.831))\n",
    "print(condition_probability(mean_living_area_a, variance_living_area_a, 1.2))\n",
    "print(condition_probability(mean_living_area_h, variance_living_area_h, 1.777))\n",
    "print(condition_probability(mean_living_area_h, variance_living_area_h, 1.504))"
   ]
  },
  {
   "cell_type": "code",
   "execution_count": 40,
   "metadata": {},
   "outputs": [
    {
     "name": "stdout",
     "output_type": "stream",
     "text": [
      "Classification  house\n"
     ]
    }
   ],
   "source": [
    "apartment_24=0.104030659*(1/7)*0.120216067*0.554379673*(3/7)*(2/7)*(3/7)*0.025466629*0.35\n",
    "house_24=0.590401327*(1/7)*0.177228437*0.887548309*(2/7)*(4/7)*(5/7)*0.023426879*0.35\n",
    "condo_24=0.083027579*(1/6)*0.150918887*0.429557952*(4/6)*(4/6)*(5/6)*0.027246956*0.3\n",
    "predict = max(apartment_24, house_24, condo_24)\n",
    "if (predict==apartment_24):\n",
    "    print(\"Classification  Apartment\")\n",
    "if (predict==house_24):\n",
    "    print(\"Classification  house\")\n",
    "if (predict==condo_24):\n",
    "    print(\"Classification   condo\")"
   ]
  },
  {
   "cell_type": "code",
   "execution_count": 41,
   "metadata": {},
   "outputs": [
    {
     "name": "stdout",
     "output_type": "stream",
     "text": [
      "Classification  Apartment\n"
     ]
    }
   ],
   "source": [
    "apartment_25=0.107611*(1/7)*0.103362287*0.566593641*(2/7)*(1/7)*(2/7)*0.001410199*0.35\n",
    "house_25=0.000115*(1/7)*0.147384458*1.630411282*(2/7)*(1/7)*(1/7)*0.001525864*0.35\n",
    "condo_25=0.085454*(1/6)*0.11599033*0.431400867*(2/6)*(1/6)*(1/6)*0.000904816*0.3\n",
    "predict = max(apartment_25, house_25, condo_25)\n",
    "if (predict==apartment_25):\n",
    "    print(\"Classification  Apartment\")\n",
    "if (predict==house_25):\n",
    "    print(\"Classification  house\")\n",
    "if (predict==condo_25):\n",
    "    print(\"Classification   condo\")"
   ]
  },
  {
   "cell_type": "code",
   "execution_count": 42,
   "metadata": {},
   "outputs": [
    {
     "name": "stdout",
     "output_type": "stream",
     "text": [
      "Classification  Apartment\n"
     ]
    }
   ],
   "source": [
    "apartment_26=0.105957*(5/7)*0.079090759*0.525855981*(2/7)*(2/7)*(3/7)*0.022246397*0.35\n",
    "house_26=2.13285E-05*(6/7)*0.094728838*0.364487546*(2/7)*(2/7)*(5/7)*0.017539795*0.35\n",
    "condo_26=0.084718*(4/6)*0.073745078*0.419528702*(2/6)*(1/6)*(5/6)*0.02392215*0.3\n",
    "predict = max(apartment_26, house_26, condo_26)\n",
    "if (predict==apartment_26):\n",
    "    print(\"Classification  Apartment\")\n",
    "if (predict==house_26):\n",
    "    print(\"Classification  house\")\n",
    "if (predict==condo_26):\n",
    "    print(\"Classification   condo\")"
   ]
  },
  {
   "cell_type": "code",
   "execution_count": 43,
   "metadata": {},
   "outputs": [
    {
     "name": "stdout",
     "output_type": "stream",
     "text": [
      "Classification  Apartment\n"
     ]
    }
   ],
   "source": [
    "apartment_27=0.097351*(1/7)*0.114112878*0.509005858*(1/7)*(1/7)*(2/7)*0.023668419*0.35\n",
    "house_27=1.61737E-08*(1/7)*0.169110442*0.223055901*(1/7)*(1/7)*(1/7)*0.030324994*0.35\n",
    "condo_27=0.0806639*(1/6)*0.137549194*0.412921903*(1/6)*(1/6)*(1/6)*0.02357649*0.3\n",
    "predict = max(apartment_27, house_27, condo_27)\n",
    "if (predict==apartment_27):\n",
    "    print(\"Classification  Apartment\")\n",
    "if (predict==house_27):\n",
    "    print(\"Classification  house\")\n",
    "if (predict==condo_27):\n",
    "    print(\"Classification   condo\")"
   ]
  },
  {
   "cell_type": "code",
   "execution_count": 44,
   "metadata": {},
   "outputs": [
    {
     "name": "stdout",
     "output_type": "stream",
     "text": [
      "Classification   condo\n"
     ]
    }
   ],
   "source": [
    "apartment_28=0.04796*(1/7)*0.115603615*0.51585397*(2/7)*(2/7)*(3/7)*0.022783507*0.35\n",
    "house_28=6.89004E-27*(1/7)*0.136374301*1.24923579*(2/7)*(4/7)*(5/7)*0.02962415*0.35\n",
    "condo_28=0.052782*(1/6)*0.144561953*0.401522336*(2/6)*(4/6)*(5/6)*0.022492029*.3\n",
    "predict = max(apartment_28, house_28, condo_28)\n",
    "if (predict==apartment_28):\n",
    "    print(\"Classification  Apartment\")\n",
    "if (predict==house_28):\n",
    "    print(\"Classification  house\")\n",
    "if (predict==condo_28):\n",
    "    print(\"Classification   condo\")"
   ]
  },
  {
   "cell_type": "markdown",
   "metadata": {},
   "source": [
    "Question 2"
   ]
  },
  {
   "cell_type": "code",
   "execution_count": 9,
   "metadata": {},
   "outputs": [],
   "source": [
    "def train(x_train, x_test, y_train,depth):\n",
    "    model = DecisionTreeClassifier(criterion= \"entropy\", random_state= 100, max_depth=depth,min_samples_leaf=5)\n",
    "    model.fit(x_train,y_train)\n",
    "    return model"
   ]
  },
  {
   "cell_type": "code",
   "execution_count": 10,
   "metadata": {},
   "outputs": [],
   "source": [
    "def predict(testing_data, model):\n",
    "    y_predictions = model.predict(testing_data)\n",
    "    return y_predictions"
   ]
  },
  {
   "cell_type": "code",
   "execution_count": 11,
   "metadata": {},
   "outputs": [],
   "source": [
    "def accuracy_classification(y_test, y_pred):\n",
    "    return (accuracy_score(y_test, y_pred)*100), classification_report(y_test, y_pred, zero_division=0)"
   ]
  },
  {
   "cell_type": "code",
   "execution_count": 14,
   "metadata": {},
   "outputs": [
    {
     "name": "stdout",
     "output_type": "stream",
     "text": [
      "Accuracy =  20.0\n",
      "Report =                precision    recall  f1-score   support\n",
      "\n",
      "   Apartment       0.00      0.00      0.00         3\n",
      "       Condo       0.00      0.00      0.00         0\n",
      "       House       0.33      0.50      0.40         2\n",
      "\n",
      "    accuracy                           0.20         5\n",
      "   macro avg       0.11      0.17      0.13         5\n",
      "weighted avg       0.13      0.20      0.16         5\n",
      "\n"
     ]
    },
    {
     "data": {
      "text/plain": [
       "[Text(0.5, 0.8333333333333334, 'X[8] <= 36.0\\nentropy = 1.581\\nsamples = 20\\nvalue = [7, 6, 7]'),\n",
       " Text(0.25, 0.5, 'X[4] <= 1.494\\nentropy = 1.371\\nsamples = 10\\nvalue = [2, 2, 6]'),\n",
       " Text(0.125, 0.16666666666666666, 'entropy = 0.971\\nsamples = 5\\nvalue = [0, 2, 3]'),\n",
       " Text(0.375, 0.16666666666666666, 'entropy = 0.971\\nsamples = 5\\nvalue = [2, 0, 3]'),\n",
       " Text(0.75, 0.5, 'X[0] <= 5.5\\nentropy = 1.361\\nsamples = 10\\nvalue = [5, 4, 1]'),\n",
       " Text(0.625, 0.16666666666666666, 'entropy = 1.371\\nsamples = 5\\nvalue = [3, 1, 1]'),\n",
       " Text(0.875, 0.16666666666666666, 'entropy = 0.971\\nsamples = 5\\nvalue = [2, 3, 0]')]"
      ]
     },
     "execution_count": 14,
     "metadata": {},
     "output_type": "execute_result"
    },
    {
     "data": {
      "image/png": "[encoded data removed]",
      "text/plain": [
       "<Figure size 640x480 with 1 Axes>"
      ]
     },
     "metadata": {},
     "output_type": "display_data"
    }
   ],
   "source": [
    "model = train(x_train,x_test,y_train,10)\n",
    "y_prediction = predict(x_test, model)\n",
    "accuracy, report = accuracy_classification(y_test, y_prediction)\n",
    "print(\"Accuracy = \", accuracy)\n",
    "print(\"Report = \", report)\n",
    "tree.plot_tree(model)"
   ]
  },
  {
   "cell_type": "code",
   "execution_count": 37,
   "metadata": {},
   "outputs": [
    {
     "name": "stderr",
     "output_type": "stream",
     "text": [
      "C:\\Users\\anubh\\AppData\\Roaming\\Python\\Python310\\site-packages\\sklearn\\base.py:450: UserWarning: X does not have valid feature names, but DecisionTreeClassifier was fitted with feature names\n",
      "  warnings.warn(\n",
      "C:\\Users\\anubh\\AppData\\Roaming\\Python\\Python310\\site-packages\\sklearn\\base.py:450: UserWarning: X does not have valid feature names, but DecisionTreeClassifier was fitted with feature names\n",
      "  warnings.warn(\n",
      "C:\\Users\\anubh\\AppData\\Roaming\\Python\\Python310\\site-packages\\sklearn\\base.py:450: UserWarning: X does not have valid feature names, but DecisionTreeClassifier was fitted with feature names\n",
      "  warnings.warn(\n",
      "C:\\Users\\anubh\\AppData\\Roaming\\Python\\Python310\\site-packages\\sklearn\\base.py:450: UserWarning: X does not have valid feature names, but DecisionTreeClassifier was fitted with feature names\n",
      "  warnings.warn(\n",
      "C:\\Users\\anubh\\AppData\\Roaming\\Python\\Python310\\site-packages\\sklearn\\base.py:450: UserWarning: X does not have valid feature names, but DecisionTreeClassifier was fitted with feature names\n",
      "  warnings.warn(\n",
      "C:\\Users\\anubh\\AppData\\Roaming\\Python\\Python310\\site-packages\\sklearn\\base.py:450: UserWarning: X does not have valid feature names, but DecisionTreeClassifier was fitted with feature names\n",
      "  warnings.warn(\n"
     ]
    },
    {
     "name": "stdout",
     "output_type": "stream",
     "text": [
      "Accuracy =  20.0\n",
      "Report =                precision    recall  f1-score   support\n",
      "\n",
      "   Apartment       0.00      0.00      0.00         3\n",
      "       Condo       0.00      0.00      0.00         0\n",
      "       House       0.33      0.50      0.40         2\n",
      "\n",
      "    accuracy                           0.20         5\n",
      "   macro avg       0.11      0.17      0.13         5\n",
      "weighted avg       0.13      0.20      0.16         5\n",
      "\n",
      "Accuracy =  20.0\n",
      "Report =                precision    recall  f1-score   support\n",
      "\n",
      "   Apartment       0.00      0.00      0.00         3\n",
      "       Condo       0.00      0.00      0.00         0\n",
      "       House       0.33      0.50      0.40         2\n",
      "\n",
      "    accuracy                           0.20         5\n",
      "   macro avg       0.11      0.17      0.13         5\n",
      "weighted avg       0.13      0.20      0.16         5\n",
      "\n",
      "Accuracy =  20.0\n",
      "Report =                precision    recall  f1-score   support\n",
      "\n",
      "   Apartment       0.00      0.00      0.00         3\n",
      "       Condo       0.00      0.00      0.00         0\n",
      "       House       0.33      0.50      0.40         2\n",
      "\n",
      "    accuracy                           0.20         5\n",
      "   macro avg       0.11      0.17      0.13         5\n",
      "weighted avg       0.13      0.20      0.16         5\n",
      "\n",
      "Accuracy =  20.0\n",
      "Report =                precision    recall  f1-score   support\n",
      "\n",
      "   Apartment       0.00      0.00      0.00         3\n",
      "       Condo       0.00      0.00      0.00         0\n",
      "       House       0.33      0.50      0.40         2\n",
      "\n",
      "    accuracy                           0.20         5\n",
      "   macro avg       0.11      0.17      0.13         5\n",
      "weighted avg       0.13      0.20      0.16         5\n",
      "\n",
      "Accuracy =  20.0\n",
      "Report =                precision    recall  f1-score   support\n",
      "\n",
      "   Apartment       0.00      0.00      0.00         3\n",
      "       Condo       0.00      0.00      0.00         0\n",
      "       House       0.33      0.50      0.40         2\n",
      "\n",
      "    accuracy                           0.20         5\n",
      "   macro avg       0.11      0.17      0.13         5\n",
      "weighted avg       0.13      0.20      0.16         5\n",
      "\n",
      "Accuracy =  20.0\n",
      "Report =                precision    recall  f1-score   support\n",
      "\n",
      "   Apartment       0.00      0.00      0.00         3\n",
      "       Condo       0.00      0.00      0.00         0\n",
      "       House       0.33      0.50      0.40         2\n",
      "\n",
      "    accuracy                           0.20         5\n",
      "   macro avg       0.11      0.17      0.13         5\n",
      "weighted avg       0.13      0.20      0.16         5\n",
      "\n"
     ]
    },
    {
     "data": {
      "image/png": "[encoded data removed]",
      "text/plain": [
       "<Figure size 640x480 with 1 Axes>"
      ]
     },
     "metadata": {},
     "output_type": "display_data"
    }
   ],
   "source": [
    "for i in [5,7,9,11,15,17]:\n",
    "    model = train(x_train,x_test,y_train,i)\n",
    "    y_prediction = predict(x_test, model)\n",
    "    accuracy, report = accuracy_classification(y_test, y_prediction)\n",
    "    print(\"Accuracy = \", accuracy)\n",
    "    print(\"Report = \", report)\n",
    "    tree.plot_tree(model)"
   ]
  },
  {
   "cell_type": "markdown",
   "metadata": {},
   "source": [
    "Question 3"
   ]
  },
  {
   "cell_type": "code",
   "execution_count": 16,
   "metadata": {},
   "outputs": [],
   "source": [
    "def distance(num_1, num_2):\n",
    "    return np.sqrt(np.sum((num_1-num_2)**2))"
   ]
  },
  {
   "cell_type": "code",
   "execution_count": 31,
   "metadata": {},
   "outputs": [],
   "source": [
    "def predict_k(x_train, y , x_input, k):\n",
    "    labels = []\n",
    "    for item in x_input:\n",
    "        pda = []\n",
    "        for j in range(len(x_train)): \n",
    "            distances = distance(x_train.iloc[j,:].values , item) \n",
    "            pda.append(distances) \n",
    "        pda = np.array(pda) \n",
    "        dist = np.argsort(pda)[:k] \n",
    "        label = y[dist]\n",
    "        l = mode(label) \n",
    "        l = l.mode[0]\n",
    "        labels.append(l)\n",
    "    return labels"
   ]
  },
  {
   "cell_type": "code",
   "execution_count": 36,
   "metadata": {},
   "outputs": [
    {
     "name": "stdout",
     "output_type": "stream",
     "text": [
      "1 Accuracy:  0.6\n",
      "2 Accuracy:  0.6\n",
      "3 Accuracy:  0.2\n",
      "4 Accuracy:  0.2\n",
      "5 Accuracy:  0.4\n"
     ]
    },
    {
     "name": "stderr",
     "output_type": "stream",
     "text": [
      "C:\\Users\\anubh\\AppData\\Local\\Temp\\ipykernel_2244\\575048954.py:11: FutureWarning: Unlike other reduction functions (e.g. `skew`, `kurtosis`), the default behavior of `mode` typically preserves the axis it acts along. In SciPy 1.11.0, this behavior will change: the default value of `keepdims` will become False, the `axis` over which the statistic is taken will be eliminated, and the value None will no longer be accepted. Set `keepdims` to True or False to avoid this warning.\n",
      "  l = mode(label)\n",
      "C:\\Users\\anubh\\AppData\\Roaming\\Python\\Python310\\site-packages\\scipy\\stats\\_stats_py.py:112: RuntimeWarning: The input array could not be properly checked for nan values. nan values will be ignored.\n",
      "  warnings.warn(\"The input array could not be properly \"\n",
      "C:\\Users\\anubh\\AppData\\Local\\Temp\\ipykernel_2244\\575048954.py:11: DeprecationWarning: Support for non-numeric arrays has been deprecated as of SciPy 1.9.0 and will be removed in 1.11.0. `pandas.DataFrame.mode` can be used instead, see https://pandas.pydata.org/docs/reference/api/pandas.DataFrame.mode.html.\n",
      "  l = mode(label)\n",
      "C:\\Users\\anubh\\AppData\\Local\\Temp\\ipykernel_2244\\575048954.py:11: FutureWarning: Unlike other reduction functions (e.g. `skew`, `kurtosis`), the default behavior of `mode` typically preserves the axis it acts along. In SciPy 1.11.0, this behavior will change: the default value of `keepdims` will become False, the `axis` over which the statistic is taken will be eliminated, and the value None will no longer be accepted. Set `keepdims` to True or False to avoid this warning.\n",
      "  l = mode(label)\n",
      "C:\\Users\\anubh\\AppData\\Roaming\\Python\\Python310\\site-packages\\scipy\\stats\\_stats_py.py:112: RuntimeWarning: The input array could not be properly checked for nan values. nan values will be ignored.\n",
      "  warnings.warn(\"The input array could not be properly \"\n",
      "C:\\Users\\anubh\\AppData\\Local\\Temp\\ipykernel_2244\\575048954.py:11: DeprecationWarning: Support for non-numeric arrays has been deprecated as of SciPy 1.9.0 and will be removed in 1.11.0. `pandas.DataFrame.mode` can be used instead, see https://pandas.pydata.org/docs/reference/api/pandas.DataFrame.mode.html.\n",
      "  l = mode(label)\n",
      "C:\\Users\\anubh\\AppData\\Local\\Temp\\ipykernel_2244\\575048954.py:11: FutureWarning: Unlike other reduction functions (e.g. `skew`, `kurtosis`), the default behavior of `mode` typically preserves the axis it acts along. In SciPy 1.11.0, this behavior will change: the default value of `keepdims` will become False, the `axis` over which the statistic is taken will be eliminated, and the value None will no longer be accepted. Set `keepdims` to True or False to avoid this warning.\n",
      "  l = mode(label)\n",
      "C:\\Users\\anubh\\AppData\\Roaming\\Python\\Python310\\site-packages\\scipy\\stats\\_stats_py.py:112: RuntimeWarning: The input array could not be properly checked for nan values. nan values will be ignored.\n",
      "  warnings.warn(\"The input array could not be properly \"\n",
      "C:\\Users\\anubh\\AppData\\Local\\Temp\\ipykernel_2244\\575048954.py:11: DeprecationWarning: Support for non-numeric arrays has been deprecated as of SciPy 1.9.0 and will be removed in 1.11.0. `pandas.DataFrame.mode` can be used instead, see https://pandas.pydata.org/docs/reference/api/pandas.DataFrame.mode.html.\n",
      "  l = mode(label)\n",
      "C:\\Users\\anubh\\AppData\\Local\\Temp\\ipykernel_2244\\575048954.py:11: FutureWarning: Unlike other reduction functions (e.g. `skew`, `kurtosis`), the default behavior of `mode` typically preserves the axis it acts along. In SciPy 1.11.0, this behavior will change: the default value of `keepdims` will become False, the `axis` over which the statistic is taken will be eliminated, and the value None will no longer be accepted. Set `keepdims` to True or False to avoid this warning.\n",
      "  l = mode(label)\n",
      "C:\\Users\\anubh\\AppData\\Roaming\\Python\\Python310\\site-packages\\scipy\\stats\\_stats_py.py:112: RuntimeWarning: The input array could not be properly checked for nan values. nan values will be ignored.\n",
      "  warnings.warn(\"The input array could not be properly \"\n",
      "C:\\Users\\anubh\\AppData\\Local\\Temp\\ipykernel_2244\\575048954.py:11: DeprecationWarning: Support for non-numeric arrays has been deprecated as of SciPy 1.9.0 and will be removed in 1.11.0. `pandas.DataFrame.mode` can be used instead, see https://pandas.pydata.org/docs/reference/api/pandas.DataFrame.mode.html.\n",
      "  l = mode(label)\n",
      "C:\\Users\\anubh\\AppData\\Local\\Temp\\ipykernel_2244\\575048954.py:11: FutureWarning: Unlike other reduction functions (e.g. `skew`, `kurtosis`), the default behavior of `mode` typically preserves the axis it acts along. In SciPy 1.11.0, this behavior will change: the default value of `keepdims` will become False, the `axis` over which the statistic is taken will be eliminated, and the value None will no longer be accepted. Set `keepdims` to True or False to avoid this warning.\n",
      "  l = mode(label)\n",
      "C:\\Users\\anubh\\AppData\\Roaming\\Python\\Python310\\site-packages\\scipy\\stats\\_stats_py.py:112: RuntimeWarning: The input array could not be properly checked for nan values. nan values will be ignored.\n",
      "  warnings.warn(\"The input array could not be properly \"\n",
      "C:\\Users\\anubh\\AppData\\Local\\Temp\\ipykernel_2244\\575048954.py:11: DeprecationWarning: Support for non-numeric arrays has been deprecated as of SciPy 1.9.0 and will be removed in 1.11.0. `pandas.DataFrame.mode` can be used instead, see https://pandas.pydata.org/docs/reference/api/pandas.DataFrame.mode.html.\n",
      "  l = mode(label)\n",
      "C:\\Users\\anubh\\AppData\\Local\\Temp\\ipykernel_2244\\575048954.py:11: FutureWarning: Unlike other reduction functions (e.g. `skew`, `kurtosis`), the default behavior of `mode` typically preserves the axis it acts along. In SciPy 1.11.0, this behavior will change: the default value of `keepdims` will become False, the `axis` over which the statistic is taken will be eliminated, and the value None will no longer be accepted. Set `keepdims` to True or False to avoid this warning.\n",
      "  l = mode(label)\n",
      "C:\\Users\\anubh\\AppData\\Roaming\\Python\\Python310\\site-packages\\scipy\\stats\\_stats_py.py:112: RuntimeWarning: The input array could not be properly checked for nan values. nan values will be ignored.\n",
      "  warnings.warn(\"The input array could not be properly \"\n",
      "C:\\Users\\anubh\\AppData\\Local\\Temp\\ipykernel_2244\\575048954.py:11: DeprecationWarning: Support for non-numeric arrays has been deprecated as of SciPy 1.9.0 and will be removed in 1.11.0. `pandas.DataFrame.mode` can be used instead, see https://pandas.pydata.org/docs/reference/api/pandas.DataFrame.mode.html.\n",
      "  l = mode(label)\n",
      "C:\\Users\\anubh\\AppData\\Local\\Temp\\ipykernel_2244\\575048954.py:11: FutureWarning: Unlike other reduction functions (e.g. `skew`, `kurtosis`), the default behavior of `mode` typically preserves the axis it acts along. In SciPy 1.11.0, this behavior will change: the default value of `keepdims` will become False, the `axis` over which the statistic is taken will be eliminated, and the value None will no longer be accepted. Set `keepdims` to True or False to avoid this warning.\n",
      "  l = mode(label)\n",
      "C:\\Users\\anubh\\AppData\\Roaming\\Python\\Python310\\site-packages\\scipy\\stats\\_stats_py.py:112: RuntimeWarning: The input array could not be properly checked for nan values. nan values will be ignored.\n",
      "  warnings.warn(\"The input array could not be properly \"\n",
      "C:\\Users\\anubh\\AppData\\Local\\Temp\\ipykernel_2244\\575048954.py:11: DeprecationWarning: Support for non-numeric arrays has been deprecated as of SciPy 1.9.0 and will be removed in 1.11.0. `pandas.DataFrame.mode` can be used instead, see https://pandas.pydata.org/docs/reference/api/pandas.DataFrame.mode.html.\n",
      "  l = mode(label)\n",
      "C:\\Users\\anubh\\AppData\\Local\\Temp\\ipykernel_2244\\575048954.py:11: FutureWarning: Unlike other reduction functions (e.g. `skew`, `kurtosis`), the default behavior of `mode` typically preserves the axis it acts along. In SciPy 1.11.0, this behavior will change: the default value of `keepdims` will become False, the `axis` over which the statistic is taken will be eliminated, and the value None will no longer be accepted. Set `keepdims` to True or False to avoid this warning.\n",
      "  l = mode(label)\n",
      "C:\\Users\\anubh\\AppData\\Roaming\\Python\\Python310\\site-packages\\scipy\\stats\\_stats_py.py:112: RuntimeWarning: The input array could not be properly checked for nan values. nan values will be ignored.\n",
      "  warnings.warn(\"The input array could not be properly \"\n",
      "C:\\Users\\anubh\\AppData\\Local\\Temp\\ipykernel_2244\\575048954.py:11: DeprecationWarning: Support for non-numeric arrays has been deprecated as of SciPy 1.9.0 and will be removed in 1.11.0. `pandas.DataFrame.mode` can be used instead, see https://pandas.pydata.org/docs/reference/api/pandas.DataFrame.mode.html.\n",
      "  l = mode(label)\n",
      "C:\\Users\\anubh\\AppData\\Local\\Temp\\ipykernel_2244\\575048954.py:11: FutureWarning: Unlike other reduction functions (e.g. `skew`, `kurtosis`), the default behavior of `mode` typically preserves the axis it acts along. In SciPy 1.11.0, this behavior will change: the default value of `keepdims` will become False, the `axis` over which the statistic is taken will be eliminated, and the value None will no longer be accepted. Set `keepdims` to True or False to avoid this warning.\n",
      "  l = mode(label)\n",
      "C:\\Users\\anubh\\AppData\\Roaming\\Python\\Python310\\site-packages\\scipy\\stats\\_stats_py.py:112: RuntimeWarning: The input array could not be properly checked for nan values. nan values will be ignored.\n",
      "  warnings.warn(\"The input array could not be properly \"\n",
      "C:\\Users\\anubh\\AppData\\Local\\Temp\\ipykernel_2244\\575048954.py:11: DeprecationWarning: Support for non-numeric arrays has been deprecated as of SciPy 1.9.0 and will be removed in 1.11.0. `pandas.DataFrame.mode` can be used instead, see https://pandas.pydata.org/docs/reference/api/pandas.DataFrame.mode.html.\n",
      "  l = mode(label)\n",
      "C:\\Users\\anubh\\AppData\\Local\\Temp\\ipykernel_2244\\575048954.py:11: FutureWarning: Unlike other reduction functions (e.g. `skew`, `kurtosis`), the default behavior of `mode` typically preserves the axis it acts along. In SciPy 1.11.0, this behavior will change: the default value of `keepdims` will become False, the `axis` over which the statistic is taken will be eliminated, and the value None will no longer be accepted. Set `keepdims` to True or False to avoid this warning.\n",
      "  l = mode(label)\n",
      "C:\\Users\\anubh\\AppData\\Roaming\\Python\\Python310\\site-packages\\scipy\\stats\\_stats_py.py:112: RuntimeWarning: The input array could not be properly checked for nan values. nan values will be ignored.\n",
      "  warnings.warn(\"The input array could not be properly \"\n",
      "C:\\Users\\anubh\\AppData\\Local\\Temp\\ipykernel_2244\\575048954.py:11: DeprecationWarning: Support for non-numeric arrays has been deprecated as of SciPy 1.9.0 and will be removed in 1.11.0. `pandas.DataFrame.mode` can be used instead, see https://pandas.pydata.org/docs/reference/api/pandas.DataFrame.mode.html.\n",
      "  l = mode(label)\n",
      "C:\\Users\\anubh\\AppData\\Local\\Temp\\ipykernel_2244\\575048954.py:11: FutureWarning: Unlike other reduction functions (e.g. `skew`, `kurtosis`), the default behavior of `mode` typically preserves the axis it acts along. In SciPy 1.11.0, this behavior will change: the default value of `keepdims` will become False, the `axis` over which the statistic is taken will be eliminated, and the value None will no longer be accepted. Set `keepdims` to True or False to avoid this warning.\n",
      "  l = mode(label)\n",
      "C:\\Users\\anubh\\AppData\\Roaming\\Python\\Python310\\site-packages\\scipy\\stats\\_stats_py.py:112: RuntimeWarning: The input array could not be properly checked for nan values. nan values will be ignored.\n",
      "  warnings.warn(\"The input array could not be properly \"\n",
      "C:\\Users\\anubh\\AppData\\Local\\Temp\\ipykernel_2244\\575048954.py:11: DeprecationWarning: Support for non-numeric arrays has been deprecated as of SciPy 1.9.0 and will be removed in 1.11.0. `pandas.DataFrame.mode` can be used instead, see https://pandas.pydata.org/docs/reference/api/pandas.DataFrame.mode.html.\n",
      "  l = mode(label)\n",
      "C:\\Users\\anubh\\AppData\\Local\\Temp\\ipykernel_2244\\575048954.py:11: FutureWarning: Unlike other reduction functions (e.g. `skew`, `kurtosis`), the default behavior of `mode` typically preserves the axis it acts along. In SciPy 1.11.0, this behavior will change: the default value of `keepdims` will become False, the `axis` over which the statistic is taken will be eliminated, and the value None will no longer be accepted. Set `keepdims` to True or False to avoid this warning.\n",
      "  l = mode(label)\n",
      "C:\\Users\\anubh\\AppData\\Roaming\\Python\\Python310\\site-packages\\scipy\\stats\\_stats_py.py:112: RuntimeWarning: The input array could not be properly checked for nan values. nan values will be ignored.\n",
      "  warnings.warn(\"The input array could not be properly \"\n",
      "C:\\Users\\anubh\\AppData\\Local\\Temp\\ipykernel_2244\\575048954.py:11: DeprecationWarning: Support for non-numeric arrays has been deprecated as of SciPy 1.9.0 and will be removed in 1.11.0. `pandas.DataFrame.mode` can be used instead, see https://pandas.pydata.org/docs/reference/api/pandas.DataFrame.mode.html.\n",
      "  l = mode(label)\n",
      "C:\\Users\\anubh\\AppData\\Local\\Temp\\ipykernel_2244\\575048954.py:11: FutureWarning: Unlike other reduction functions (e.g. `skew`, `kurtosis`), the default behavior of `mode` typically preserves the axis it acts along. In SciPy 1.11.0, this behavior will change: the default value of `keepdims` will become False, the `axis` over which the statistic is taken will be eliminated, and the value None will no longer be accepted. Set `keepdims` to True or False to avoid this warning.\n",
      "  l = mode(label)\n",
      "C:\\Users\\anubh\\AppData\\Roaming\\Python\\Python310\\site-packages\\scipy\\stats\\_stats_py.py:112: RuntimeWarning: The input array could not be properly checked for nan values. nan values will be ignored.\n",
      "  warnings.warn(\"The input array could not be properly \"\n",
      "C:\\Users\\anubh\\AppData\\Local\\Temp\\ipykernel_2244\\575048954.py:11: DeprecationWarning: Support for non-numeric arrays has been deprecated as of SciPy 1.9.0 and will be removed in 1.11.0. `pandas.DataFrame.mode` can be used instead, see https://pandas.pydata.org/docs/reference/api/pandas.DataFrame.mode.html.\n",
      "  l = mode(label)\n",
      "C:\\Users\\anubh\\AppData\\Local\\Temp\\ipykernel_2244\\575048954.py:11: FutureWarning: Unlike other reduction functions (e.g. `skew`, `kurtosis`), the default behavior of `mode` typically preserves the axis it acts along. In SciPy 1.11.0, this behavior will change: the default value of `keepdims` will become False, the `axis` over which the statistic is taken will be eliminated, and the value None will no longer be accepted. Set `keepdims` to True or False to avoid this warning.\n",
      "  l = mode(label)\n",
      "C:\\Users\\anubh\\AppData\\Roaming\\Python\\Python310\\site-packages\\scipy\\stats\\_stats_py.py:112: RuntimeWarning: The input array could not be properly checked for nan values. nan values will be ignored.\n",
      "  warnings.warn(\"The input array could not be properly \"\n",
      "C:\\Users\\anubh\\AppData\\Local\\Temp\\ipykernel_2244\\575048954.py:11: DeprecationWarning: Support for non-numeric arrays has been deprecated as of SciPy 1.9.0 and will be removed in 1.11.0. `pandas.DataFrame.mode` can be used instead, see https://pandas.pydata.org/docs/reference/api/pandas.DataFrame.mode.html.\n",
      "  l = mode(label)\n",
      "C:\\Users\\anubh\\AppData\\Local\\Temp\\ipykernel_2244\\575048954.py:11: FutureWarning: Unlike other reduction functions (e.g. `skew`, `kurtosis`), the default behavior of `mode` typically preserves the axis it acts along. In SciPy 1.11.0, this behavior will change: the default value of `keepdims` will become False, the `axis` over which the statistic is taken will be eliminated, and the value None will no longer be accepted. Set `keepdims` to True or False to avoid this warning.\n",
      "  l = mode(label)\n",
      "C:\\Users\\anubh\\AppData\\Roaming\\Python\\Python310\\site-packages\\scipy\\stats\\_stats_py.py:112: RuntimeWarning: The input array could not be properly checked for nan values. nan values will be ignored.\n",
      "  warnings.warn(\"The input array could not be properly \"\n",
      "C:\\Users\\anubh\\AppData\\Local\\Temp\\ipykernel_2244\\575048954.py:11: DeprecationWarning: Support for non-numeric arrays has been deprecated as of SciPy 1.9.0 and will be removed in 1.11.0. `pandas.DataFrame.mode` can be used instead, see https://pandas.pydata.org/docs/reference/api/pandas.DataFrame.mode.html.\n",
      "  l = mode(label)\n",
      "C:\\Users\\anubh\\AppData\\Local\\Temp\\ipykernel_2244\\575048954.py:11: FutureWarning: Unlike other reduction functions (e.g. `skew`, `kurtosis`), the default behavior of `mode` typically preserves the axis it acts along. In SciPy 1.11.0, this behavior will change: the default value of `keepdims` will become False, the `axis` over which the statistic is taken will be eliminated, and the value None will no longer be accepted. Set `keepdims` to True or False to avoid this warning.\n",
      "  l = mode(label)\n",
      "C:\\Users\\anubh\\AppData\\Roaming\\Python\\Python310\\site-packages\\scipy\\stats\\_stats_py.py:112: RuntimeWarning: The input array could not be properly checked for nan values. nan values will be ignored.\n",
      "  warnings.warn(\"The input array could not be properly \"\n",
      "C:\\Users\\anubh\\AppData\\Local\\Temp\\ipykernel_2244\\575048954.py:11: DeprecationWarning: Support for non-numeric arrays has been deprecated as of SciPy 1.9.0 and will be removed in 1.11.0. `pandas.DataFrame.mode` can be used instead, see https://pandas.pydata.org/docs/reference/api/pandas.DataFrame.mode.html.\n",
      "  l = mode(label)\n",
      "C:\\Users\\anubh\\AppData\\Local\\Temp\\ipykernel_2244\\575048954.py:11: FutureWarning: Unlike other reduction functions (e.g. `skew`, `kurtosis`), the default behavior of `mode` typically preserves the axis it acts along. In SciPy 1.11.0, this behavior will change: the default value of `keepdims` will become False, the `axis` over which the statistic is taken will be eliminated, and the value None will no longer be accepted. Set `keepdims` to True or False to avoid this warning.\n",
      "  l = mode(label)\n",
      "C:\\Users\\anubh\\AppData\\Roaming\\Python\\Python310\\site-packages\\scipy\\stats\\_stats_py.py:112: RuntimeWarning: The input array could not be properly checked for nan values. nan values will be ignored.\n",
      "  warnings.warn(\"The input array could not be properly \"\n",
      "C:\\Users\\anubh\\AppData\\Local\\Temp\\ipykernel_2244\\575048954.py:11: DeprecationWarning: Support for non-numeric arrays has been deprecated as of SciPy 1.9.0 and will be removed in 1.11.0. `pandas.DataFrame.mode` can be used instead, see https://pandas.pydata.org/docs/reference/api/pandas.DataFrame.mode.html.\n",
      "  l = mode(label)\n",
      "C:\\Users\\anubh\\AppData\\Local\\Temp\\ipykernel_2244\\575048954.py:11: FutureWarning: Unlike other reduction functions (e.g. `skew`, `kurtosis`), the default behavior of `mode` typically preserves the axis it acts along. In SciPy 1.11.0, this behavior will change: the default value of `keepdims` will become False, the `axis` over which the statistic is taken will be eliminated, and the value None will no longer be accepted. Set `keepdims` to True or False to avoid this warning.\n",
      "  l = mode(label)\n",
      "C:\\Users\\anubh\\AppData\\Roaming\\Python\\Python310\\site-packages\\scipy\\stats\\_stats_py.py:112: RuntimeWarning: The input array could not be properly checked for nan values. nan values will be ignored.\n",
      "  warnings.warn(\"The input array could not be properly \"\n",
      "C:\\Users\\anubh\\AppData\\Local\\Temp\\ipykernel_2244\\575048954.py:11: DeprecationWarning: Support for non-numeric arrays has been deprecated as of SciPy 1.9.0 and will be removed in 1.11.0. `pandas.DataFrame.mode` can be used instead, see https://pandas.pydata.org/docs/reference/api/pandas.DataFrame.mode.html.\n",
      "  l = mode(label)\n",
      "C:\\Users\\anubh\\AppData\\Local\\Temp\\ipykernel_2244\\575048954.py:11: FutureWarning: Unlike other reduction functions (e.g. `skew`, `kurtosis`), the default behavior of `mode` typically preserves the axis it acts along. In SciPy 1.11.0, this behavior will change: the default value of `keepdims` will become False, the `axis` over which the statistic is taken will be eliminated, and the value None will no longer be accepted. Set `keepdims` to True or False to avoid this warning.\n",
      "  l = mode(label)\n",
      "C:\\Users\\anubh\\AppData\\Roaming\\Python\\Python310\\site-packages\\scipy\\stats\\_stats_py.py:112: RuntimeWarning: The input array could not be properly checked for nan values. nan values will be ignored.\n",
      "  warnings.warn(\"The input array could not be properly \"\n",
      "C:\\Users\\anubh\\AppData\\Local\\Temp\\ipykernel_2244\\575048954.py:11: DeprecationWarning: Support for non-numeric arrays has been deprecated as of SciPy 1.9.0 and will be removed in 1.11.0. `pandas.DataFrame.mode` can be used instead, see https://pandas.pydata.org/docs/reference/api/pandas.DataFrame.mode.html.\n",
      "  l = mode(label)\n",
      "C:\\Users\\anubh\\AppData\\Local\\Temp\\ipykernel_2244\\575048954.py:11: FutureWarning: Unlike other reduction functions (e.g. `skew`, `kurtosis`), the default behavior of `mode` typically preserves the axis it acts along. In SciPy 1.11.0, this behavior will change: the default value of `keepdims` will become False, the `axis` over which the statistic is taken will be eliminated, and the value None will no longer be accepted. Set `keepdims` to True or False to avoid this warning.\n",
      "  l = mode(label)\n",
      "C:\\Users\\anubh\\AppData\\Roaming\\Python\\Python310\\site-packages\\scipy\\stats\\_stats_py.py:112: RuntimeWarning: The input array could not be properly checked for nan values. nan values will be ignored.\n",
      "  warnings.warn(\"The input array could not be properly \"\n",
      "C:\\Users\\anubh\\AppData\\Local\\Temp\\ipykernel_2244\\575048954.py:11: DeprecationWarning: Support for non-numeric arrays has been deprecated as of SciPy 1.9.0 and will be removed in 1.11.0. `pandas.DataFrame.mode` can be used instead, see https://pandas.pydata.org/docs/reference/api/pandas.DataFrame.mode.html.\n",
      "  l = mode(label)\n",
      "C:\\Users\\anubh\\AppData\\Local\\Temp\\ipykernel_2244\\575048954.py:11: FutureWarning: Unlike other reduction functions (e.g. `skew`, `kurtosis`), the default behavior of `mode` typically preserves the axis it acts along. In SciPy 1.11.0, this behavior will change: the default value of `keepdims` will become False, the `axis` over which the statistic is taken will be eliminated, and the value None will no longer be accepted. Set `keepdims` to True or False to avoid this warning.\n",
      "  l = mode(label)\n",
      "C:\\Users\\anubh\\AppData\\Roaming\\Python\\Python310\\site-packages\\scipy\\stats\\_stats_py.py:112: RuntimeWarning: The input array could not be properly checked for nan values. nan values will be ignored.\n",
      "  warnings.warn(\"The input array could not be properly \"\n",
      "C:\\Users\\anubh\\AppData\\Local\\Temp\\ipykernel_2244\\575048954.py:11: DeprecationWarning: Support for non-numeric arrays has been deprecated as of SciPy 1.9.0 and will be removed in 1.11.0. `pandas.DataFrame.mode` can be used instead, see https://pandas.pydata.org/docs/reference/api/pandas.DataFrame.mode.html.\n",
      "  l = mode(label)\n",
      "C:\\Users\\anubh\\AppData\\Local\\Temp\\ipykernel_2244\\575048954.py:11: FutureWarning: Unlike other reduction functions (e.g. `skew`, `kurtosis`), the default behavior of `mode` typically preserves the axis it acts along. In SciPy 1.11.0, this behavior will change: the default value of `keepdims` will become False, the `axis` over which the statistic is taken will be eliminated, and the value None will no longer be accepted. Set `keepdims` to True or False to avoid this warning.\n",
      "  l = mode(label)\n",
      "C:\\Users\\anubh\\AppData\\Roaming\\Python\\Python310\\site-packages\\scipy\\stats\\_stats_py.py:112: RuntimeWarning: The input array could not be properly checked for nan values. nan values will be ignored.\n",
      "  warnings.warn(\"The input array could not be properly \"\n",
      "C:\\Users\\anubh\\AppData\\Local\\Temp\\ipykernel_2244\\575048954.py:11: DeprecationWarning: Support for non-numeric arrays has been deprecated as of SciPy 1.9.0 and will be removed in 1.11.0. `pandas.DataFrame.mode` can be used instead, see https://pandas.pydata.org/docs/reference/api/pandas.DataFrame.mode.html.\n",
      "  l = mode(label)\n",
      "C:\\Users\\anubh\\AppData\\Local\\Temp\\ipykernel_2244\\575048954.py:11: FutureWarning: Unlike other reduction functions (e.g. `skew`, `kurtosis`), the default behavior of `mode` typically preserves the axis it acts along. In SciPy 1.11.0, this behavior will change: the default value of `keepdims` will become False, the `axis` over which the statistic is taken will be eliminated, and the value None will no longer be accepted. Set `keepdims` to True or False to avoid this warning.\n",
      "  l = mode(label)\n",
      "C:\\Users\\anubh\\AppData\\Roaming\\Python\\Python310\\site-packages\\scipy\\stats\\_stats_py.py:112: RuntimeWarning: The input array could not be properly checked for nan values. nan values will be ignored.\n",
      "  warnings.warn(\"The input array could not be properly \"\n",
      "C:\\Users\\anubh\\AppData\\Local\\Temp\\ipykernel_2244\\575048954.py:11: DeprecationWarning: Support for non-numeric arrays has been deprecated as of SciPy 1.9.0 and will be removed in 1.11.0. `pandas.DataFrame.mode` can be used instead, see https://pandas.pydata.org/docs/reference/api/pandas.DataFrame.mode.html.\n",
      "  l = mode(label)\n",
      "C:\\Users\\anubh\\AppData\\Local\\Temp\\ipykernel_2244\\575048954.py:11: FutureWarning: Unlike other reduction functions (e.g. `skew`, `kurtosis`), the default behavior of `mode` typically preserves the axis it acts along. In SciPy 1.11.0, this behavior will change: the default value of `keepdims` will become False, the `axis` over which the statistic is taken will be eliminated, and the value None will no longer be accepted. Set `keepdims` to True or False to avoid this warning.\n",
      "  l = mode(label)\n",
      "C:\\Users\\anubh\\AppData\\Roaming\\Python\\Python310\\site-packages\\scipy\\stats\\_stats_py.py:112: RuntimeWarning: The input array could not be properly checked for nan values. nan values will be ignored.\n",
      "  warnings.warn(\"The input array could not be properly \"\n",
      "C:\\Users\\anubh\\AppData\\Local\\Temp\\ipykernel_2244\\575048954.py:11: DeprecationWarning: Support for non-numeric arrays has been deprecated as of SciPy 1.9.0 and will be removed in 1.11.0. `pandas.DataFrame.mode` can be used instead, see https://pandas.pydata.org/docs/reference/api/pandas.DataFrame.mode.html.\n",
      "  l = mode(label)\n",
      "C:\\Users\\anubh\\AppData\\Local\\Temp\\ipykernel_2244\\575048954.py:11: FutureWarning: Unlike other reduction functions (e.g. `skew`, `kurtosis`), the default behavior of `mode` typically preserves the axis it acts along. In SciPy 1.11.0, this behavior will change: the default value of `keepdims` will become False, the `axis` over which the statistic is taken will be eliminated, and the value None will no longer be accepted. Set `keepdims` to True or False to avoid this warning.\n",
      "  l = mode(label)\n",
      "C:\\Users\\anubh\\AppData\\Roaming\\Python\\Python310\\site-packages\\scipy\\stats\\_stats_py.py:112: RuntimeWarning: The input array could not be properly checked for nan values. nan values will be ignored.\n",
      "  warnings.warn(\"The input array could not be properly \"\n",
      "C:\\Users\\anubh\\AppData\\Local\\Temp\\ipykernel_2244\\575048954.py:11: DeprecationWarning: Support for non-numeric arrays has been deprecated as of SciPy 1.9.0 and will be removed in 1.11.0. `pandas.DataFrame.mode` can be used instead, see https://pandas.pydata.org/docs/reference/api/pandas.DataFrame.mode.html.\n",
      "  l = mode(label)\n"
     ]
    },
    {
     "data": {
      "text/plain": [
       "[<matplotlib.lines.Line2D at 0x1e228bee650>]"
      ]
     },
     "execution_count": 36,
     "metadata": {},
     "output_type": "execute_result"
    },
    {
     "data": {
      "image/png": "[encoded data removed]",
      "text/plain": [
       "<Figure size 640x480 with 1 Axes>"
      ]
     },
     "metadata": {},
     "output_type": "display_data"
    }
   ],
   "source": [
    "x_test = np.array(x_test)\n",
    "accuracy_values = []\n",
    "k_values = range(1,6)\n",
    "for i in range(1,6):\n",
    "    y_prediction = predict_k(x_train, y_train,x_test, i)\n",
    "    print(i, \"Accuracy: \", accuracy_score(y_test, y_prediction))\n",
    "    accuracy_values.append(accuracy_score(y_test,y_prediction))\n",
    "\n",
    "plt.plot(k_values, accuracy_values)\n"
   ]
  },
  {
   "cell_type": "markdown",
   "metadata": {},
   "source": [
    "2.)\n",
    "1.) a.) Accuracy = 0.20\n",
    "    b.) Accuracy = 0.20\n",
    "\n",
    "3.) Restricting the depth can increase accuracy. Accuracy keeps fluctuating whith different accuracy.\n",
    "4.) This is because this prevents oveerfitting.\n",
    "\n",
    "\n",
    "*** The report is included in Assignment 4.pdf ***"
   ]
  }
 ],
 "metadata": {
  "kernelspec": {
   "display_name": "Python 3.10.2 64-bit",
   "language": "python",
   "name": "python3"
  },
  "language_info": {
   "codemirror_mode": {
    "name": "ipython",
    "version": 3
   },
   "file_extension": ".py",
   "mimetype": "text/x-python",
   "name": "python",
   "nbconvert_exporter": "python",
   "pygments_lexer": "ipython3",
   "version": "3.10.2"
  },
  "orig_nbformat": 4,
  "vscode": {
   "interpreter": {
    "hash": "26de051ba29f2982a8de78e945f0abaf191376122a1563185a90213a26c5da77"
   }
  }
 },
 "nbformat": 4,
 "nbformat_minor": 2
}
